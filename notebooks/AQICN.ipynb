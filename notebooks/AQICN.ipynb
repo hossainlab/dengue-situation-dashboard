{
 "cells": [
  {
   "cell_type": "markdown",
   "id": "8bc1aabf-5b82-4cb8-8ec0-be494a1c6f8b",
   "metadata": {},
   "source": [
    "https://aqicn.org/data-feed/upload-api/"
   ]
  },
  {
   "cell_type": "code",
   "execution_count": 3,
   "id": "a9b54a5a-8d38-43ac-896a-171292ad84dc",
   "metadata": {
    "tags": []
   },
   "outputs": [],
   "source": [
    "import pandas as pd\n",
    "url1 = 'https://api.waqi.info'\n",
    "# Get token from:- https://aqicn.org/data-platform/token/#/\n",
    "token = '95d39eccda9b6bdb3aa13beeef7172fc66a7f9c6'\n",
    "box  = '89.3012,22.8457,91.2488,24.7887' # polygon around HongKong via bboxfinder.com\n",
    "url2 = f'/map/bounds/?latlng={box}&token={token}'\n",
    "my_data = pd.read_json(url1 + url2) \n",
    "\n",
    "all_rows = []\n",
    "for each_row in my_data['data']:\n",
    "    all_rows.append([each_row['station']['name'],each_row['lat'],each_row['lon'],each_row['aqi']])\n",
    "    df = pd.DataFrame(all_rows,columns=['station_name', 'lat', 'lon', 'aqi'])\n",
    "df['aqi'] = pd.to_numeric(df.aqi,errors='coerce')\n",
    "print('with NaN->', df.shape)"
   ]
  },
  {
   "cell_type": "code",
   "execution_count": 4,
   "id": "0db60e10-7eeb-4b64-9d72-58f5ec013ea3",
   "metadata": {
    "tags": []
   },
   "outputs": [
    {
     "ename": "NameError",
     "evalue": "name 'df' is not defined",
     "output_type": "error",
     "traceback": [
      "\u001b[1;31m---------------------------------------------------------------------------\u001b[0m",
      "\u001b[1;31mNameError\u001b[0m                                 Traceback (most recent call last)",
      "Cell \u001b[1;32mIn[4], line 1\u001b[0m\n\u001b[1;32m----> 1\u001b[0m df[\u001b[38;5;124m'\u001b[39m\u001b[38;5;124maqi\u001b[39m\u001b[38;5;124m'\u001b[39m] \u001b[38;5;241m=\u001b[39m pd\u001b[38;5;241m.\u001b[39mto_numeric(df\u001b[38;5;241m.\u001b[39maqi,errors\u001b[38;5;241m=\u001b[39m\u001b[38;5;124m'\u001b[39m\u001b[38;5;124mcoerce\u001b[39m\u001b[38;5;124m'\u001b[39m)\n\u001b[0;32m      2\u001b[0m \u001b[38;5;28mprint\u001b[39m(\u001b[38;5;124m'\u001b[39m\u001b[38;5;124mwith NaN->\u001b[39m\u001b[38;5;124m'\u001b[39m, df\u001b[38;5;241m.\u001b[39mshape)\n\u001b[0;32m      5\u001b[0m df1 \u001b[38;5;241m=\u001b[39m df\u001b[38;5;241m.\u001b[39mdropna(subset \u001b[38;5;241m=\u001b[39m [\u001b[38;5;124m'\u001b[39m\u001b[38;5;124maqi\u001b[39m\u001b[38;5;124m'\u001b[39m])\n",
      "\u001b[1;31mNameError\u001b[0m: name 'df' is not defined"
     ]
    }
   ],
   "source": [
    "\n",
    "df1 = df.dropna(subset = ['aqi'])\n",
    "\n",
    "df2 = df1[['lat', 'lon', 'aqi']]\n",
    "init_loc = [22.396428, 114.109497]\n",
    "max_aqi = int(df1['aqi'].max())\n",
    "print('max_aqi->', max_aqi)\n",
    "m = folium.Map(location = init_loc, zoom_start = 5)\n",
    "\n",
    "heat_aqi = HeatMap(df2, min_opacity = 0.1, max_val = max_aqi,\n",
    "radius = 60, blur = 20, max_zoom = 2)\n",
    "m.add_child(heat_aqi)\n",
    "m"
   ]
  },
  {
   "cell_type": "code",
   "execution_count": null,
   "id": "aab3b23f-06b7-43c3-b8d7-70b3f620a2d3",
   "metadata": {},
   "outputs": [],
   "source": [
    "centre_point = [22.396428, 114.109497]\n",
    "m2 = folium.Map(location = centre_point,tiles = 'Stamen Terrain', zoom_start= 6)\n",
    "for idx, row in df1.iterrows():\n",
    "    lat = row['lat']\n",
    "    lon = row['lon']\n",
    "    station = row['station_name'] + ' AQI=' + str(row['aqi'])\n",
    "    station_aqi = row['aqi']\n",
    "    if station_aqi > 300:\n",
    "        pop_color = 'red'\n",
    "    elif station_aqi > 200:\n",
    "        pop_color = 'orange'\n",
    "    else:\n",
    "        pop_color = 'green'\n",
    "        folium.Marker(location= [lat, lon],\n",
    "        popup = station,\n",
    "        icon = folium.Icon(color = pop_color)).add_to(m2)\n",
    "m2"
   ]
  },
  {
   "cell_type": "code",
   "execution_count": null,
   "id": "e04f14d8-44cb-4b0b-9021-3fc271842686",
   "metadata": {},
   "outputs": [],
   "source": [
    "df[df['station_name'].str.contains('HongKong')]\n"
   ]
  }
 ],
 "metadata": {
  "kernelspec": {
   "display_name": "Python 3 (ipykernel)",
   "language": "python",
   "name": "python3"
  },
  "language_info": {
   "codemirror_mode": {
    "name": "ipython",
    "version": 3
   },
   "file_extension": ".py",
   "mimetype": "text/x-python",
   "name": "python",
   "nbconvert_exporter": "python",
   "pygments_lexer": "ipython3",
   "version": "3.11.4"
  }
 },
 "nbformat": 4,
 "nbformat_minor": 5
}
